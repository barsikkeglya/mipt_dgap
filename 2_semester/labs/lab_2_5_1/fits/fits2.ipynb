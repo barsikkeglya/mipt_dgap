{
 "cells": [
  {
   "cell_type": "code",
   "execution_count": 5,
   "metadata": {},
   "outputs": [
    {
     "name": "stdout",
     "output_type": "stream",
     "text": [
      "-2.9419833333336355e-05\n",
      " \n",
      "2.4841304445577207e-18\n",
      " \n",
      "-0.00017652000000000192\n",
      " \n",
      "-0.00015298360000000786\n",
      " \n",
      "-0.00018828779999999256\n",
      " \n",
      "-0.00031773540000000413\n",
      " \n",
      "-0.00017651959999999292\n",
      " \n",
      "-0.00020593975000002103\n",
      " \n"
     ]
    }
   ],
   "source": [
    "import matplotlib.pyplot as plt\n",
    "import numpy as np\n",
    "x = ([295,\n",
    "301,\n",
    "305,\n",
    "308,\n",
    "313,\n",
    "318,\n",
    "323,\n",
    "328,\n",
    "332\n",
    "])\n",
    "y = ([0.080492983,\n",
    "0.080316464,\n",
    "0.080316464,\n",
    "0.079786904,\n",
    "0.079021986,\n",
    "0.078080547,\n",
    "0.07649187,\n",
    "0.075609272,\n",
    "0.074785513\n",
    "])\n",
    "xcut = []\n",
    "ycuy = []\n",
    "\n",
    "for i in range(len(x)-1):\n",
    "    xcut=[x[i],x[i+1]]\n",
    "    ycut=[y[i],y[i+1]]\n",
    "    z = np.polyfit(xcut,ycut,1)\n",
    "    p = np.poly1d(z)\n",
    "    print(p[1])\n",
    "    print(' ')\n"
   ]
  }
 ],
 "metadata": {
  "kernelspec": {
   "display_name": "Python 3",
   "language": "python",
   "name": "python3"
  },
  "language_info": {
   "codemirror_mode": {
    "name": "ipython",
    "version": 3
   },
   "file_extension": ".py",
   "mimetype": "text/x-python",
   "name": "python",
   "nbconvert_exporter": "python",
   "pygments_lexer": "ipython3",
   "version": "3.12.2"
  }
 },
 "nbformat": 4,
 "nbformat_minor": 2
}
