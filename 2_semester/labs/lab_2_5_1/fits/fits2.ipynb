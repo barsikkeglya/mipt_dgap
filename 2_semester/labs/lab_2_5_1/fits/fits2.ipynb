{
 "cells": [
  {
   "cell_type": "code",
   "execution_count": 1,
   "metadata": {},
   "outputs": [
    {
     "name": "stdout",
     "output_type": "stream",
     "text": [
      " \n",
      "0.001616 x - 0.3773\n"
     ]
    }
   ],
   "source": [
    "import matplotlib.pyplot as plt\n",
    "import numpy as np\n",
    "x = ([295,\n",
    "301,\n",
    "305,\n",
    "308,\n",
    "313,\n",
    "318,\n",
    "323,\n",
    "328,\n",
    "332\n",
    "])\n",
    "y = ([0.089171834,\n",
    "0.080316463,\n",
    "0.134155064,\n",
    "0.126905853,\n",
    "0.137956067,\n",
    "0.179120405,\n",
    "0.133507701,\n",
    "0.14315751,\n",
    "0.14315751\n",
    "])\n",
    "\n",
    "z = np.polyfit(x,y,1)\n",
    "p = np.poly1d(z)\n",
    "\n",
    "print(p)\n",
    "\n"
   ]
  }
 ],
 "metadata": {
  "kernelspec": {
   "display_name": "Python 3",
   "language": "python",
   "name": "python3"
  },
  "language_info": {
   "codemirror_mode": {
    "name": "ipython",
    "version": 3
   },
   "file_extension": ".py",
   "mimetype": "text/x-python",
   "name": "python",
   "nbconvert_exporter": "python",
   "pygments_lexer": "ipython3",
   "version": "3.12.2"
  }
 },
 "nbformat": 4,
 "nbformat_minor": 2
}
